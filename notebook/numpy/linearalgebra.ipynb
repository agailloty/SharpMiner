{
 "cells": [
  {
   "cell_type": "code",
   "execution_count": 9,
   "id": "8e86982a-c1c0-435e-865b-dcde76b9f88c",
   "metadata": {},
   "outputs": [],
   "source": [
    "import pandas as pd\n",
    "indicators = pd.read_csv(\"indicators.csv\", sep = \",\")"
   ]
  },
  {
   "cell_type": "code",
   "execution_count": 10,
   "id": "f8b9aff3-d789-4b2a-965a-75b5410003f5",
   "metadata": {},
   "outputs": [
    {
     "data": {
      "text/html": [
       "<div>\n",
       "<style scoped>\n",
       "    .dataframe tbody tr th:only-of-type {\n",
       "        vertical-align: middle;\n",
       "    }\n",
       "\n",
       "    .dataframe tbody tr th {\n",
       "        vertical-align: top;\n",
       "    }\n",
       "\n",
       "    .dataframe thead th {\n",
       "        text-align: right;\n",
       "    }\n",
       "</style>\n",
       "<table border=\"1\" class=\"dataframe\">\n",
       "  <thead>\n",
       "    <tr style=\"text-align: right;\">\n",
       "      <th></th>\n",
       "      <th>GDP_CAPITA</th>\n",
       "      <th>BALANCE</th>\n",
       "      <th>MANUFACTURE_IMPORTS</th>\n",
       "      <th>SERVICE_EMPLOYMENT</th>\n",
       "      <th>FOREIGN_INVESTMENT</th>\n",
       "      <th>FUEL_EXPORTS</th>\n",
       "      <th>GROSS_SAVINGS</th>\n",
       "      <th>INFLATION</th>\n",
       "      <th>EXPORT_TELECOM</th>\n",
       "      <th>LIFE_EXPECTANCY</th>\n",
       "      <th>...</th>\n",
       "      <th>FERTILITY_RATE</th>\n",
       "      <th>HUMAN_CAPITAL_INDEX</th>\n",
       "      <th>FEMALE_LABOR_FORCE</th>\n",
       "      <th>POPULATION_65_ABOVE</th>\n",
       "      <th>EDUCATION_EXPENDITURE</th>\n",
       "      <th>URBAN_POPULATION</th>\n",
       "      <th>CO2_EMISSIONS</th>\n",
       "      <th>ARMED_FORCE</th>\n",
       "      <th>SURFACE_AREA</th>\n",
       "      <th>EXPORTS_GOOD_SERVICES</th>\n",
       "    </tr>\n",
       "  </thead>\n",
       "  <tbody>\n",
       "    <tr>\n",
       "      <th>0</th>\n",
       "      <td>2082.392197</td>\n",
       "      <td>5.745537e+09</td>\n",
       "      <td>45.220595</td>\n",
       "      <td>38.410000</td>\n",
       "      <td>0.661572</td>\n",
       "      <td>10.213181</td>\n",
       "      <td>23.100673</td>\n",
       "      <td>0.626149</td>\n",
       "      <td>65.516134</td>\n",
       "      <td>64.486000</td>\n",
       "      <td>...</td>\n",
       "      <td>4.473000</td>\n",
       "      <td>0.393489</td>\n",
       "      <td>21.741486</td>\n",
       "      <td>2.584927</td>\n",
       "      <td>3.199790</td>\n",
       "      <td>25.495</td>\n",
       "      <td>0.351866</td>\n",
       "      <td>2.722970</td>\n",
       "      <td>652860.0</td>\n",
       "      <td>43.904598</td>\n",
       "    </tr>\n",
       "    <tr>\n",
       "      <th>1</th>\n",
       "      <td>13498.138167</td>\n",
       "      <td>3.381321e+09</td>\n",
       "      <td>47.511441</td>\n",
       "      <td>42.970001</td>\n",
       "      <td>7.946351</td>\n",
       "      <td>1.662666</td>\n",
       "      <td>16.547233</td>\n",
       "      <td>2.028060</td>\n",
       "      <td>29.850758</td>\n",
       "      <td>78.458000</td>\n",
       "      <td>...</td>\n",
       "      <td>1.617000</td>\n",
       "      <td>0.628666</td>\n",
       "      <td>42.720264</td>\n",
       "      <td>13.744736</td>\n",
       "      <td>4.518576</td>\n",
       "      <td>60.319</td>\n",
       "      <td>0.437493</td>\n",
       "      <td>0.643149</td>\n",
       "      <td>28750.0</td>\n",
       "      <td>31.571927</td>\n",
       "    </tr>\n",
       "    <tr>\n",
       "      <th>2</th>\n",
       "      <td>11908.537607</td>\n",
       "      <td>7.160573e+09</td>\n",
       "      <td>65.790506</td>\n",
       "      <td>59.220001</td>\n",
       "      <td>0.838207</td>\n",
       "      <td>15.189064</td>\n",
       "      <td>40.205962</td>\n",
       "      <td>4.269990</td>\n",
       "      <td>62.916580</td>\n",
       "      <td>76.693000</td>\n",
       "      <td>...</td>\n",
       "      <td>3.023000</td>\n",
       "      <td>0.531994</td>\n",
       "      <td>19.849984</td>\n",
       "      <td>6.362497</td>\n",
       "      <td>5.866350</td>\n",
       "      <td>72.629</td>\n",
       "      <td>0.863727</td>\n",
       "      <td>2.570824</td>\n",
       "      <td>2381741.0</td>\n",
       "      <td>25.861151</td>\n",
       "    </tr>\n",
       "    <tr>\n",
       "      <th>3</th>\n",
       "      <td>22612.704331</td>\n",
       "      <td>1.027254e+09</td>\n",
       "      <td>65.790506</td>\n",
       "      <td>55.347987</td>\n",
       "      <td>-5.730436</td>\n",
       "      <td>15.189064</td>\n",
       "      <td>23.100673</td>\n",
       "      <td>4.369297</td>\n",
       "      <td>33.265259</td>\n",
       "      <td>72.550799</td>\n",
       "      <td>...</td>\n",
       "      <td>2.648885</td>\n",
       "      <td>0.572202</td>\n",
       "      <td>41.915803</td>\n",
       "      <td>9.136007</td>\n",
       "      <td>4.518576</td>\n",
       "      <td>87.153</td>\n",
       "      <td>0.452589</td>\n",
       "      <td>1.212733</td>\n",
       "      <td>200.0</td>\n",
       "      <td>68.231612</td>\n",
       "    </tr>\n",
       "    <tr>\n",
       "      <th>4</th>\n",
       "      <td>22612.704331</td>\n",
       "      <td>1.027254e+09</td>\n",
       "      <td>68.294552</td>\n",
       "      <td>55.347987</td>\n",
       "      <td>-5.730436</td>\n",
       "      <td>0.013639</td>\n",
       "      <td>23.100673</td>\n",
       "      <td>4.369297</td>\n",
       "      <td>33.265259</td>\n",
       "      <td>72.550799</td>\n",
       "      <td>...</td>\n",
       "      <td>2.648885</td>\n",
       "      <td>0.572202</td>\n",
       "      <td>41.915803</td>\n",
       "      <td>9.136007</td>\n",
       "      <td>3.246720</td>\n",
       "      <td>88.062</td>\n",
       "      <td>0.155958</td>\n",
       "      <td>1.212733</td>\n",
       "      <td>470.0</td>\n",
       "      <td>43.904598</td>\n",
       "    </tr>\n",
       "    <tr>\n",
       "      <th>...</th>\n",
       "      <td>...</td>\n",
       "      <td>...</td>\n",
       "      <td>...</td>\n",
       "      <td>...</td>\n",
       "      <td>...</td>\n",
       "      <td>...</td>\n",
       "      <td>...</td>\n",
       "      <td>...</td>\n",
       "      <td>...</td>\n",
       "      <td>...</td>\n",
       "      <td>...</td>\n",
       "      <td>...</td>\n",
       "      <td>...</td>\n",
       "      <td>...</td>\n",
       "      <td>...</td>\n",
       "      <td>...</td>\n",
       "      <td>...</td>\n",
       "      <td>...</td>\n",
       "      <td>...</td>\n",
       "      <td>...</td>\n",
       "      <td>...</td>\n",
       "    </tr>\n",
       "    <tr>\n",
       "      <th>162</th>\n",
       "      <td>7252.137355</td>\n",
       "      <td>6.866855e+09</td>\n",
       "      <td>79.924678</td>\n",
       "      <td>50.689999</td>\n",
       "      <td>1.186869</td>\n",
       "      <td>24.939491</td>\n",
       "      <td>35.607162</td>\n",
       "      <td>4.369297</td>\n",
       "      <td>10.875411</td>\n",
       "      <td>71.573000</td>\n",
       "      <td>...</td>\n",
       "      <td>2.604000</td>\n",
       "      <td>0.572202</td>\n",
       "      <td>39.987940</td>\n",
       "      <td>4.419138</td>\n",
       "      <td>5.900000</td>\n",
       "      <td>50.478</td>\n",
       "      <td>1.171877</td>\n",
       "      <td>0.486005</td>\n",
       "      <td>448924.0</td>\n",
       "      <td>26.961898</td>\n",
       "    </tr>\n",
       "    <tr>\n",
       "      <th>163</th>\n",
       "      <td>3166.980897</td>\n",
       "      <td>2.396779e+08</td>\n",
       "      <td>65.790506</td>\n",
       "      <td>28.969999</td>\n",
       "      <td>4.108664</td>\n",
       "      <td>15.189064</td>\n",
       "      <td>39.416867</td>\n",
       "      <td>2.330964</td>\n",
       "      <td>3.288492</td>\n",
       "      <td>70.323000</td>\n",
       "      <td>...</td>\n",
       "      <td>3.782000</td>\n",
       "      <td>0.444750</td>\n",
       "      <td>43.547789</td>\n",
       "      <td>3.640153</td>\n",
       "      <td>4.518576</td>\n",
       "      <td>25.274</td>\n",
       "      <td>0.215040</td>\n",
       "      <td>1.212733</td>\n",
       "      <td>12190.0</td>\n",
       "      <td>59.793395</td>\n",
       "    </tr>\n",
       "    <tr>\n",
       "      <th>164</th>\n",
       "      <td>9776.819500</td>\n",
       "      <td>-1.653963e+10</td>\n",
       "      <td>76.796309</td>\n",
       "      <td>34.660000</td>\n",
       "      <td>5.021022</td>\n",
       "      <td>1.613913</td>\n",
       "      <td>23.100673</td>\n",
       "      <td>3.539628</td>\n",
       "      <td>33.265259</td>\n",
       "      <td>75.317000</td>\n",
       "      <td>...</td>\n",
       "      <td>2.049000</td>\n",
       "      <td>0.687239</td>\n",
       "      <td>47.422656</td>\n",
       "      <td>7.274978</td>\n",
       "      <td>4.167450</td>\n",
       "      <td>35.919</td>\n",
       "      <td>1.098508</td>\n",
       "      <td>0.940510</td>\n",
       "      <td>331230.0</td>\n",
       "      <td>43.904598</td>\n",
       "    </tr>\n",
       "    <tr>\n",
       "      <th>165</th>\n",
       "      <td>3605.676095</td>\n",
       "      <td>-5.139038e+08</td>\n",
       "      <td>64.204290</td>\n",
       "      <td>39.290001</td>\n",
       "      <td>1.552314</td>\n",
       "      <td>1.024689</td>\n",
       "      <td>41.825828</td>\n",
       "      <td>7.494572</td>\n",
       "      <td>7.516471</td>\n",
       "      <td>63.510000</td>\n",
       "      <td>...</td>\n",
       "      <td>4.633000</td>\n",
       "      <td>0.391176</td>\n",
       "      <td>48.225372</td>\n",
       "      <td>2.099678</td>\n",
       "      <td>4.739750</td>\n",
       "      <td>43.521</td>\n",
       "      <td>0.325928</td>\n",
       "      <td>0.227168</td>\n",
       "      <td>752610.0</td>\n",
       "      <td>37.957405</td>\n",
       "    </tr>\n",
       "    <tr>\n",
       "      <th>166</th>\n",
       "      <td>2556.793484</td>\n",
       "      <td>1.938391e+09</td>\n",
       "      <td>58.113619</td>\n",
       "      <td>27.230000</td>\n",
       "      <td>3.962704</td>\n",
       "      <td>1.010572</td>\n",
       "      <td>2.358411</td>\n",
       "      <td>10.618866</td>\n",
       "      <td>12.331765</td>\n",
       "      <td>61.195000</td>\n",
       "      <td>...</td>\n",
       "      <td>3.615000</td>\n",
       "      <td>0.461242</td>\n",
       "      <td>51.512789</td>\n",
       "      <td>2.939524</td>\n",
       "      <td>3.866110</td>\n",
       "      <td>32.209</td>\n",
       "      <td>0.562954</td>\n",
       "      <td>0.725589</td>\n",
       "      <td>390760.0</td>\n",
       "      <td>28.049757</td>\n",
       "    </tr>\n",
       "  </tbody>\n",
       "</table>\n",
       "<p>167 rows × 21 columns</p>\n",
       "</div>"
      ],
      "text/plain": [
       "       GDP_CAPITA       BALANCE  MANUFACTURE_IMPORTS  SERVICE_EMPLOYMENT  \\\n",
       "0     2082.392197  5.745537e+09            45.220595           38.410000   \n",
       "1    13498.138167  3.381321e+09            47.511441           42.970001   \n",
       "2    11908.537607  7.160573e+09            65.790506           59.220001   \n",
       "3    22612.704331  1.027254e+09            65.790506           55.347987   \n",
       "4    22612.704331  1.027254e+09            68.294552           55.347987   \n",
       "..            ...           ...                  ...                 ...   \n",
       "162   7252.137355  6.866855e+09            79.924678           50.689999   \n",
       "163   3166.980897  2.396779e+08            65.790506           28.969999   \n",
       "164   9776.819500 -1.653963e+10            76.796309           34.660000   \n",
       "165   3605.676095 -5.139038e+08            64.204290           39.290001   \n",
       "166   2556.793484  1.938391e+09            58.113619           27.230000   \n",
       "\n",
       "     FOREIGN_INVESTMENT  FUEL_EXPORTS  GROSS_SAVINGS  INFLATION  \\\n",
       "0              0.661572     10.213181      23.100673   0.626149   \n",
       "1              7.946351      1.662666      16.547233   2.028060   \n",
       "2              0.838207     15.189064      40.205962   4.269990   \n",
       "3             -5.730436     15.189064      23.100673   4.369297   \n",
       "4             -5.730436      0.013639      23.100673   4.369297   \n",
       "..                  ...           ...            ...        ...   \n",
       "162            1.186869     24.939491      35.607162   4.369297   \n",
       "163            4.108664     15.189064      39.416867   2.330964   \n",
       "164            5.021022      1.613913      23.100673   3.539628   \n",
       "165            1.552314      1.024689      41.825828   7.494572   \n",
       "166            3.962704      1.010572       2.358411  10.618866   \n",
       "\n",
       "     EXPORT_TELECOM  LIFE_EXPECTANCY  ...  FERTILITY_RATE  \\\n",
       "0         65.516134        64.486000  ...        4.473000   \n",
       "1         29.850758        78.458000  ...        1.617000   \n",
       "2         62.916580        76.693000  ...        3.023000   \n",
       "3         33.265259        72.550799  ...        2.648885   \n",
       "4         33.265259        72.550799  ...        2.648885   \n",
       "..              ...              ...  ...             ...   \n",
       "162       10.875411        71.573000  ...        2.604000   \n",
       "163        3.288492        70.323000  ...        3.782000   \n",
       "164       33.265259        75.317000  ...        2.049000   \n",
       "165        7.516471        63.510000  ...        4.633000   \n",
       "166       12.331765        61.195000  ...        3.615000   \n",
       "\n",
       "     HUMAN_CAPITAL_INDEX  FEMALE_LABOR_FORCE  POPULATION_65_ABOVE  \\\n",
       "0               0.393489           21.741486             2.584927   \n",
       "1               0.628666           42.720264            13.744736   \n",
       "2               0.531994           19.849984             6.362497   \n",
       "3               0.572202           41.915803             9.136007   \n",
       "4               0.572202           41.915803             9.136007   \n",
       "..                   ...                 ...                  ...   \n",
       "162             0.572202           39.987940             4.419138   \n",
       "163             0.444750           43.547789             3.640153   \n",
       "164             0.687239           47.422656             7.274978   \n",
       "165             0.391176           48.225372             2.099678   \n",
       "166             0.461242           51.512789             2.939524   \n",
       "\n",
       "     EDUCATION_EXPENDITURE  URBAN_POPULATION  CO2_EMISSIONS  ARMED_FORCE  \\\n",
       "0                 3.199790            25.495       0.351866     2.722970   \n",
       "1                 4.518576            60.319       0.437493     0.643149   \n",
       "2                 5.866350            72.629       0.863727     2.570824   \n",
       "3                 4.518576            87.153       0.452589     1.212733   \n",
       "4                 3.246720            88.062       0.155958     1.212733   \n",
       "..                     ...               ...            ...          ...   \n",
       "162               5.900000            50.478       1.171877     0.486005   \n",
       "163               4.518576            25.274       0.215040     1.212733   \n",
       "164               4.167450            35.919       1.098508     0.940510   \n",
       "165               4.739750            43.521       0.325928     0.227168   \n",
       "166               3.866110            32.209       0.562954     0.725589   \n",
       "\n",
       "     SURFACE_AREA  EXPORTS_GOOD_SERVICES  \n",
       "0        652860.0              43.904598  \n",
       "1         28750.0              31.571927  \n",
       "2       2381741.0              25.861151  \n",
       "3           200.0              68.231612  \n",
       "4           470.0              43.904598  \n",
       "..            ...                    ...  \n",
       "162      448924.0              26.961898  \n",
       "163       12190.0              59.793395  \n",
       "164      331230.0              43.904598  \n",
       "165      752610.0              37.957405  \n",
       "166      390760.0              28.049757  \n",
       "\n",
       "[167 rows x 21 columns]"
      ]
     },
     "execution_count": 10,
     "metadata": {},
     "output_type": "execute_result"
    }
   ],
   "source": [
    "indicators"
   ]
  },
  {
   "cell_type": "code",
   "execution_count": 3,
   "id": "0e70da8e-e8f5-4946-bdfe-19b5cc8fde1a",
   "metadata": {},
   "outputs": [],
   "source": [
    "import numpy as np"
   ]
  },
  {
   "cell_type": "code",
   "execution_count": 13,
   "id": "724895fc-1b2d-49a0-b234-0c874f7e68ea",
   "metadata": {},
   "outputs": [],
   "source": [
    "u, s, v = np.linalg.svd(indicators)"
   ]
  },
  {
   "cell_type": "code",
   "execution_count": 15,
   "id": "e07c7647-10db-4e32-9425-14fe70684d2d",
   "metadata": {},
   "outputs": [
    {
     "data": {
      "text/plain": [
       "(167, 167)"
      ]
     },
     "execution_count": 15,
     "metadata": {},
     "output_type": "execute_result"
    }
   ],
   "source": [
    "u.shape"
   ]
  },
  {
   "cell_type": "code",
   "execution_count": 26,
   "id": "fedd9960-f990-47e8-a7e1-e0a0727fb992",
   "metadata": {},
   "outputs": [
    {
     "data": {
      "text/plain": [
       "array([[-5.34011792e-03, -2.87034081e-02,  4.07145314e-03, ...,\n",
       "        -9.07281151e-03,  4.29017961e-02,  4.69579837e-03],\n",
       "       [-3.14272667e-03, -6.77344158e-04, -3.47096919e-02, ...,\n",
       "        -7.86820159e-03,  2.07460943e-02, -3.99789981e-02],\n",
       "       [-6.65530643e-03, -1.07319588e-01,  4.53820273e-03, ...,\n",
       "        -7.20953855e-02, -1.17062062e-01, -1.66040725e-02],\n",
       "       ...,\n",
       "       [ 1.53725536e-02, -1.82355758e-02, -1.93202274e-02, ...,\n",
       "         9.16302623e-01,  7.80070731e-03, -4.47659671e-02],\n",
       "       [ 4.77641505e-04, -3.44359008e-02,  2.00940582e-03, ...,\n",
       "         3.44826144e-03,  9.22381088e-01,  4.13561640e-03],\n",
       "       [-1.80161311e-03, -1.74634652e-02, -8.63465683e-04, ...,\n",
       "        -4.54032293e-02,  4.98388346e-03,  9.22673257e-01]])"
      ]
     },
     "execution_count": 26,
     "metadata": {},
     "output_type": "execute_result"
    }
   ],
   "source": [
    "u"
   ]
  },
  {
   "cell_type": "code",
   "execution_count": 17,
   "id": "fa3e337b-b2c3-4c97-b593-44ba3917563d",
   "metadata": {},
   "outputs": [
    {
     "data": {
      "text/plain": [
       "array([1.07591942e+12, 2.19173396e+07, 3.86377098e+05, 1.32399821e+03,\n",
       "       1.27755036e+03, 3.23247821e+02, 3.05005106e+02, 2.53429421e+02,\n",
       "       2.12153909e+02, 1.91826168e+02, 1.20293014e+02, 1.04716475e+02,\n",
       "       9.98716102e+01, 8.98189808e+01, 6.11866055e+01, 4.82472578e+01,\n",
       "       1.83715710e+01, 1.61619197e+01, 8.53354927e+00, 3.56483186e+00,\n",
       "       7.04884863e-01])"
      ]
     },
     "execution_count": 17,
     "metadata": {},
     "output_type": "execute_result"
    }
   ],
   "source": [
    "s"
   ]
  },
  {
   "cell_type": "code",
   "execution_count": 20,
   "id": "079a8c54-329f-4362-b144-a1a346162489",
   "metadata": {},
   "outputs": [
    {
     "data": {
      "text/plain": [
       "(21,)"
      ]
     },
     "execution_count": 20,
     "metadata": {},
     "output_type": "execute_result"
    }
   ],
   "source": [
    "s.shape"
   ]
  },
  {
   "cell_type": "code",
   "execution_count": 22,
   "id": "8953a0a9-970e-45ec-8eb9-8b4c46c05b13",
   "metadata": {},
   "outputs": [
    {
     "data": {
      "text/plain": [
       "array([1.15760260e+24, 4.80369773e+14, 1.49287262e+11, 1.75297125e+06,\n",
       "       1.63213493e+06, 1.04489154e+05, 9.30281147e+04, 6.42264716e+04,\n",
       "       4.50092810e+04, 3.67972789e+04, 1.44704093e+04, 1.09655400e+04,\n",
       "       9.97433852e+03, 8.06744932e+03, 3.74380070e+03, 2.32779789e+03,\n",
       "       3.37514620e+02, 2.61207647e+02, 7.28214632e+01, 1.27080262e+01,\n",
       "       4.96862669e-01])"
      ]
     },
     "execution_count": 22,
     "metadata": {},
     "output_type": "execute_result"
    }
   ],
   "source": [
    "s **2"
   ]
  },
  {
   "cell_type": "code",
   "execution_count": 21,
   "id": "cb01cc2d-5bc2-4c7e-b9f2-8e559f71e0c5",
   "metadata": {},
   "outputs": [
    {
     "data": {
      "text/plain": [
       "(21, 21)"
      ]
     },
     "execution_count": 21,
     "metadata": {},
     "output_type": "execute_result"
    }
   ],
   "source": [
    "v.shape"
   ]
  },
  {
   "cell_type": "code",
   "execution_count": 24,
   "id": "aec80e61-677f-4a98-b182-b42712ca9b3e",
   "metadata": {},
   "outputs": [
    {
     "data": {
      "text/plain": [
       "(21, 21)"
      ]
     },
     "execution_count": 24,
     "metadata": {},
     "output_type": "execute_result"
    }
   ],
   "source": [
    "v.T.shape"
   ]
  },
  {
   "cell_type": "code",
   "execution_count": 25,
   "id": "1893d443-b207-4a8f-9fe0-ebf3eef4a758",
   "metadata": {},
   "outputs": [
    {
     "data": {
      "text/plain": [
       "RangeIndex(start=0, stop=167, step=1)"
      ]
     },
     "execution_count": 25,
     "metadata": {},
     "output_type": "execute_result"
    }
   ],
   "source": [
    "indicators.index"
   ]
  },
  {
   "cell_type": "code",
   "execution_count": null,
   "id": "d2b55631-827b-49c8-9c26-c52f7afa7d8b",
   "metadata": {},
   "outputs": [],
   "source": []
  }
 ],
 "metadata": {
  "kernelspec": {
   "display_name": "Python 3 (ipykernel)",
   "language": "python",
   "name": "python3"
  },
  "language_info": {
   "codemirror_mode": {
    "name": "ipython",
    "version": 3
   },
   "file_extension": ".py",
   "mimetype": "text/x-python",
   "name": "python",
   "nbconvert_exporter": "python",
   "pygments_lexer": "ipython3",
   "version": "3.11.5"
  }
 },
 "nbformat": 4,
 "nbformat_minor": 5
}
