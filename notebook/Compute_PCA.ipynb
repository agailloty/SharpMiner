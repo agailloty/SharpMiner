{
 "cells": [
  {
   "cell_type": "code",
   "execution_count": 1,
   "id": "d1b59898-ed8b-4449-9482-c2e70461016d",
   "metadata": {},
   "outputs": [
    {
     "data": {
      "text/html": [
       "\r\n",
       "<div>\r\n",
       "    <div id='dotnet-interactive-this-cell-732.Microsoft.DotNet.Interactive.Http.HttpPort' style='display: none'>\r\n",
       "        The below script needs to be able to find the current output cell; this is an easy method to get it.\r\n",
       "    </div>\r\n",
       "    <script type='text/javascript'>\r\n",
       "async function probeAddresses(probingAddresses) {\r\n",
       "    function timeout(ms, promise) {\r\n",
       "        return new Promise(function (resolve, reject) {\r\n",
       "            setTimeout(function () {\r\n",
       "                reject(new Error('timeout'))\r\n",
       "            }, ms)\r\n",
       "            promise.then(resolve, reject)\r\n",
       "        })\r\n",
       "    }\r\n",
       "\r\n",
       "    if (Array.isArray(probingAddresses)) {\r\n",
       "        for (let i = 0; i < probingAddresses.length; i++) {\r\n",
       "\r\n",
       "            let rootUrl = probingAddresses[i];\r\n",
       "\r\n",
       "            if (!rootUrl.endsWith('/')) {\r\n",
       "                rootUrl = `${rootUrl}/`;\r\n",
       "            }\r\n",
       "\r\n",
       "            try {\r\n",
       "                let response = await timeout(1000, fetch(`${rootUrl}discovery`, {\r\n",
       "                    method: 'POST',\r\n",
       "                    cache: 'no-cache',\r\n",
       "                    mode: 'cors',\r\n",
       "                    timeout: 1000,\r\n",
       "                    headers: {\r\n",
       "                        'Content-Type': 'text/plain'\r\n",
       "                    },\r\n",
       "                    body: probingAddresses[i]\r\n",
       "                }));\r\n",
       "\r\n",
       "                if (response.status == 200) {\r\n",
       "                    return rootUrl;\r\n",
       "                }\r\n",
       "            }\r\n",
       "            catch (e) { }\r\n",
       "        }\r\n",
       "    }\r\n",
       "}\r\n",
       "\r\n",
       "function loadDotnetInteractiveApi() {\r\n",
       "    probeAddresses([\"http://100.78.206.137:2048/\", \"http://172.30.192.1:2048/\", \"http://192.168.1.11:2048/\", \"http://172.31.224.1:2048/\", \"http://127.0.0.1:2048/\"])\r\n",
       "        .then((root) => {\r\n",
       "        // use probing to find host url and api resources\r\n",
       "        // load interactive helpers and language services\r\n",
       "        let dotnetInteractiveRequire = require.config({\r\n",
       "        context: '732.Microsoft.DotNet.Interactive.Http.HttpPort',\r\n",
       "                paths:\r\n",
       "            {\r\n",
       "                'dotnet-interactive': `${root}resources`\r\n",
       "                }\r\n",
       "        }) || require;\r\n",
       "\r\n",
       "            window.dotnetInteractiveRequire = dotnetInteractiveRequire;\r\n",
       "\r\n",
       "            window.configureRequireFromExtension = function(extensionName, extensionCacheBuster) {\r\n",
       "                let paths = {};\r\n",
       "                paths[extensionName] = `${root}extensions/${extensionName}/resources/`;\r\n",
       "                \r\n",
       "                let internalRequire = require.config({\r\n",
       "                    context: extensionCacheBuster,\r\n",
       "                    paths: paths,\r\n",
       "                    urlArgs: `cacheBuster=${extensionCacheBuster}`\r\n",
       "                    }) || require;\r\n",
       "\r\n",
       "                return internalRequire\r\n",
       "            };\r\n",
       "        \r\n",
       "            dotnetInteractiveRequire([\r\n",
       "                    'dotnet-interactive/dotnet-interactive'\r\n",
       "                ],\r\n",
       "                function (dotnet) {\r\n",
       "                    dotnet.init(window);\r\n",
       "                },\r\n",
       "                function (error) {\r\n",
       "                    console.log(error);\r\n",
       "                }\r\n",
       "            );\r\n",
       "        })\r\n",
       "        .catch(error => {console.log(error);});\r\n",
       "    }\r\n",
       "\r\n",
       "// ensure `require` is available globally\r\n",
       "if ((typeof(require) !==  typeof(Function)) || (typeof(require.config) !== typeof(Function))) {\r\n",
       "    let require_script = document.createElement('script');\r\n",
       "    require_script.setAttribute('src', 'https://cdnjs.cloudflare.com/ajax/libs/require.js/2.3.6/require.min.js');\r\n",
       "    require_script.setAttribute('type', 'text/javascript');\r\n",
       "    \r\n",
       "    \r\n",
       "    require_script.onload = function() {\r\n",
       "        loadDotnetInteractiveApi();\r\n",
       "    };\r\n",
       "\r\n",
       "    document.getElementsByTagName('head')[0].appendChild(require_script);\r\n",
       "}\r\n",
       "else {\r\n",
       "    loadDotnetInteractiveApi();\r\n",
       "}\r\n",
       "\r\n",
       "    </script>\r\n",
       "</div>"
      ]
     },
     "metadata": {},
     "output_type": "display_data"
    },
    {
     "data": {
      "text/html": [
       "<div><div></div><div></div><div><strong>Installed Packages</strong><ul><li><span>MathNet.Numerics, 5.0.0</span></li><li><span>MathNet.Numerics.Data.Text, 5.0.0</span></li></ul></div></div>"
      ]
     },
     "metadata": {},
     "output_type": "display_data"
    }
   ],
   "source": [
    "#r \"nuget: MathNet.Numerics, 5.0.0\"\n",
    "#r \"nuget: MathNet.Numerics.Data.Text, 5.0.0\""
   ]
  },
  {
   "cell_type": "code",
   "execution_count": 2,
   "id": "e501a35a-90c0-42a5-8248-282cb6555d86",
   "metadata": {},
   "outputs": [],
   "source": [
    "﻿using MathNet.Numerics.LinearAlgebra;\n",
    "using MathNet.Numerics.LinearAlgebra.Double;\n",
    "using MathNet.Numerics.Data.Text;\n",
    "using System;\n",
    "using System.Globalization;\n",
    "\n",
    "string csvFilePath = \"indicators.csv\";\n",
    "var provider =  new NumberFormatInfo { NumberDecimalSeparator = \".\"  };\n",
    "\n",
    "var data = DelimitedReader.Read<double>(filePath: csvFilePath, delimiter: \",\", formatProvider: provider, hasHeaders: true);"
   ]
  },
  {
   "cell_type": "code",
   "execution_count": 3,
   "id": "0ffd1164-9483-4537-bd59-a732e1ec008c",
   "metadata": {},
   "outputs": [
    {
     "data": {
      "text/html": [
       "<details open=\"open\" class=\"dni-treeview\"><summary><span class=\"dni-code-hint\"><code>DenseMatrix 167x21-Double\\r\\n2082,39   5,74554E+09  45,2206   38,41  0,661572  ..       652860  43,9046\\r\\n13498,1   3,38132E+09  47,5114   42,97   7,94635  ..        28750  31,5719\\r\\n11908,5   7,16057E+09  65,7905   59,22  0,838207  ..  2,38174E+06  25,8612\\r\\n22612,7   1,02725E+09  65,7905  55,34...</code></span></summary><div><table><thead><tr></tr></thead><tbody><tr><td>Values</td><td><div class=\"dni-plaintext\"><pre>[ 2082,3921973316, 13498,138167156, 11908,5376066966, 22612,7043309515, 22612,7043309515, 7148,93325257707, 23290,6757386443, 13018,8742919449, 50169,1872936523, 56960,0914258929, 14549,0618972126, 47485,6175980067, 5321,94022451796, 19428,0074589115, 52535,23221854, 3236,29206474841, 83368,6225507397, 11619,5574665237, 8862,31308813575, 14918,4851562103 ... (3487 more) ]</pre></div></td></tr><tr><td>Storage</td><td><details class=\"dni-treeview\"><summary><span class=\"dni-code-hint\"><code>MathNet.Numerics.LinearAlgebra.Storage.DenseColumnMajorMatrixStorage`1[System.Double]</code></span></summary><div><table><thead><tr></tr></thead><tbody><tr><td>IsDense</td><td><div class=\"dni-plaintext\"><pre>True</pre></div></td></tr><tr><td>IsFullyMutable</td><td><div class=\"dni-plaintext\"><pre>True</pre></div></td></tr><tr><td>Data</td><td><div class=\"dni-plaintext\"><pre>[ 2082,3921973316, 13498,138167156, 11908,5376066966, 22612,7043309515, 22612,7043309515, 7148,93325257707, 23290,6757386443, 13018,8742919449, 50169,1872936523, 56960,0914258929, 14549,0618972126, 47485,6175980067, 5321,94022451796, 19428,0074589115, 52535,23221854, 3236,29206474841, 83368,6225507397, 11619,5574665237, 8862,31308813575, 14918,4851562103 ... (3487 more) ]</pre></div></td></tr><tr><td>RowCount</td><td><div class=\"dni-plaintext\"><pre>167</pre></div></td></tr><tr><td>ColumnCount</td><td><div class=\"dni-plaintext\"><pre>21</pre></div></td></tr></tbody></table></div></details></td></tr><tr><td>ColumnCount</td><td><div class=\"dni-plaintext\"><pre>21</pre></div></td></tr><tr><td>RowCount</td><td><div class=\"dni-plaintext\"><pre>167</pre></div></td></tr></tbody></table></div></details><style>\r\n",
       ".dni-code-hint {\r\n",
       "    font-style: italic;\r\n",
       "    overflow: hidden;\r\n",
       "    white-space: nowrap;\r\n",
       "}\r\n",
       ".dni-treeview {\r\n",
       "    white-space: nowrap;\r\n",
       "}\r\n",
       ".dni-treeview td {\r\n",
       "    vertical-align: top;\r\n",
       "    text-align: start;\r\n",
       "}\r\n",
       "details.dni-treeview {\r\n",
       "    padding-left: 1em;\r\n",
       "}\r\n",
       "table td {\r\n",
       "    text-align: start;\r\n",
       "}\r\n",
       "table tr { \r\n",
       "    vertical-align: top; \r\n",
       "    margin: 0em 0px;\r\n",
       "}\r\n",
       "table tr td pre \r\n",
       "{ \r\n",
       "    vertical-align: top !important; \r\n",
       "    margin: 0em 0px !important;\r\n",
       "} \r\n",
       "table th {\r\n",
       "    text-align: start;\r\n",
       "}\r\n",
       "</style>"
      ]
     },
     "execution_count": 3,
     "metadata": {},
     "output_type": "execute_result"
    }
   ],
   "source": [
    "data"
   ]
  },
  {
   "cell_type": "markdown",
   "id": "c6bb80c1-0684-40b9-a40f-970226dbf8df",
   "metadata": {},
   "source": []
  }
 ],
 "metadata": {
  "kernelspec": {
   "display_name": ".NET (C#)",
   "language": "C#",
   "name": ".net-csharp"
  },
  "language_info": {
   "file_extension": ".cs",
   "mimetype": "text/x-csharp",
   "name": "C#",
   "pygments_lexer": "csharp",
   "version": "11.0"
  }
 },
 "nbformat": 4,
 "nbformat_minor": 5
}
